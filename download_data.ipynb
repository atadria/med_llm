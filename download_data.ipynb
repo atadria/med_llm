{
 "cells": [
  {
   "cell_type": "code",
   "execution_count": 1,
   "id": "3f93888e-965c-4c4c-9be6-e8442f516d26",
   "metadata": {
    "tags": []
   },
   "outputs": [],
   "source": [
    "from dataset_utils import get_dataset, get_instruction_dataset"
   ]
  },
  {
   "cell_type": "code",
   "execution_count": 2,
   "id": "3108b19e-4415-43ac-bb6d-e989a6fc3d74",
   "metadata": {
    "tags": []
   },
   "outputs": [
    {
     "name": "stdout",
     "output_type": "stream",
     "text": [
      "------ bigbio/czi_drsm ------\n",
      "14539\n",
      "------ bigbio/bc5cdr ------\n",
      "500\n",
      "------ bigbio/distemist ------\n",
      "750\n",
      "------ ./pubmed/pubmed.py ------\n",
      "530060\n"
     ]
    }
   ],
   "source": [
    "dataset = get_dataset()"
   ]
  },
  {
   "cell_type": "code",
   "execution_count": 3,
   "id": "3de0c9ee-2c96-4ad8-9124-67ce166eafc9",
   "metadata": {
    "tags": []
   },
   "outputs": [
    {
     "data": {
      "text/plain": [
       "Dataset({\n",
       "    features: ['text'],\n",
       "    num_rows: 545849\n",
       "})"
      ]
     },
     "execution_count": 3,
     "metadata": {},
     "output_type": "execute_result"
    }
   ],
   "source": [
    "dataset "
   ]
  },
  {
   "cell_type": "code",
   "execution_count": 4,
   "id": "c13e2731-7798-4620-8b2f-564b91abcb98",
   "metadata": {
    "tags": []
   },
   "outputs": [
    {
     "data": {
      "application/vnd.jupyter.widget-view+json": {
       "model_id": "ad710aea674e499587b86c1e098e1774",
       "version_major": 2,
       "version_minor": 0
      },
      "text/plain": [
       "Filter:   0%|          | 0/545849 [00:00<?, ? examples/s]"
      ]
     },
     "metadata": {},
     "output_type": "display_data"
    }
   ],
   "source": [
    "dataset_ = dataset.filter(lambda example: len(example[\"text\"]) > 200)"
   ]
  },
  {
   "cell_type": "code",
   "execution_count": 5,
   "id": "6224af39-de1b-41d9-9697-a94747d23873",
   "metadata": {
    "tags": []
   },
   "outputs": [
    {
     "data": {
      "text/plain": [
       "Dataset({\n",
       "    features: ['text'],\n",
       "    num_rows: 538319\n",
       "})"
      ]
     },
     "execution_count": 5,
     "metadata": {},
     "output_type": "execute_result"
    }
   ],
   "source": [
    "dataset_"
   ]
  },
  {
   "cell_type": "code",
   "execution_count": 6,
   "id": "e9e7e150-3b9a-4fa8-abd8-139d34899aa6",
   "metadata": {
    "tags": []
   },
   "outputs": [
    {
     "data": {
      "application/vnd.jupyter.widget-view+json": {
       "model_id": "9ed059f3e7114a38a321a031b907a995",
       "version_major": 2,
       "version_minor": 0
      },
      "text/plain": [
       "Saving the dataset (0/2 shards):   0%|          | 0/538319 [00:00<?, ? examples/s]"
      ]
     },
     "metadata": {},
     "output_type": "display_data"
    }
   ],
   "source": [
    "dataset_.save_to_disk('gs://{bucket-name}/simple_text_med_dataset.hf')"
   ]
  },
  {
   "cell_type": "code",
   "execution_count": 8,
   "id": "8a9ec071-235c-4f17-92a7-f431c28b046b",
   "metadata": {
    "tags": []
   },
   "outputs": [
    {
     "name": "stdout",
     "output_type": "stream",
     "text": [
      "------ scientific_papers ------\n",
      "119924\n",
      "------ pubmed_qa ------\n",
      "1000\n",
      "------ medmcqa ------\n",
      "182822\n"
     ]
    },
    {
     "data": {
      "text/plain": [
       "Dataset({\n",
       "    features: ['text'],\n",
       "    num_rows: 303746\n",
       "})"
      ]
     },
     "execution_count": 8,
     "metadata": {},
     "output_type": "execute_result"
    }
   ],
   "source": [
    "instruct_dataset = get_instruction_dataset()\n",
    "instruct_dataset"
   ]
  },
  {
   "cell_type": "code",
   "execution_count": 10,
   "id": "9e26c18b-c2ad-4a7e-9c1e-99822fccc99e",
   "metadata": {
    "tags": []
   },
   "outputs": [
    {
     "data": {
      "application/vnd.jupyter.widget-view+json": {
       "model_id": "51b939fc3e134d699d3cbef3930614d5",
       "version_major": 2,
       "version_minor": 0
      },
      "text/plain": [
       "Saving the dataset (0/5 shards):   0%|          | 0/303746 [00:00<?, ? examples/s]"
      ]
     },
     "metadata": {},
     "output_type": "display_data"
    }
   ],
   "source": [
    "instruct_dataset.save_to_disk('gs://{bucket-name}/instruct_med_dataset.hf')"
   ]
  }
 ],
 "metadata": {
  "environment": {
   "kernel": "python3",
   "name": "tf2-cpu.2-11.m116",
   "type": "gcloud",
   "uri": "gcr.io/deeplearning-platform-release/tf2-cpu.2-11:m116"
  },
  "kernelspec": {
   "display_name": "Python 3",
   "language": "python",
   "name": "python3"
  },
  "language_info": {
   "codemirror_mode": {
    "name": "ipython",
    "version": 3
   },
   "file_extension": ".py",
   "mimetype": "text/x-python",
   "name": "python",
   "nbconvert_exporter": "python",
   "pygments_lexer": "ipython3",
   "version": "3.10.13"
  }
 },
 "nbformat": 4,
 "nbformat_minor": 5
}
